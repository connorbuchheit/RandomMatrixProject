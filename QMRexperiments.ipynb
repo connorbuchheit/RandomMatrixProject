{
 "cells": [
  {
   "cell_type": "code",
   "execution_count": 1,
   "metadata": {},
   "outputs": [],
   "source": [
    "from CGS import solve_cgs;\n",
    "from CGN import solve_cgn;\n",
    "from scipy.sparse.linalg import qmr;\n",
    "import matrixgenerators\n",
    "import numpy as np\n",
    "import matplotlib.pyplot as plt"
   ]
  },
  {
   "cell_type": "code",
   "execution_count": null,
   "metadata": {},
   "outputs": [],
   "source": [
    "# to be ran if stuff doesnt update with algorithsm\n",
    "import importlib\n",
    "import CGS\n",
    "import CGN\n",
    "import matrixgenerators\n",
    "\n",
    "importlib.reload(CGS)\n",
    "importlib.reload(CGN)\n",
    "importlib.reload(matrixgenerators)\n",
    "\n",
    "from CGS import solve_cgs\n",
    "from CGN import solve_cgn\n"
   ]
  },
  {
   "cell_type": "code",
   "execution_count": null,
   "metadata": {},
   "outputs": [],
   "source": [
    "First experiment: Calculating how residual error + time taken to run change with matrix size with a fixed condition number."
   ]
  }
 ],
 "metadata": {
  "kernelspec": {
   "display_name": "Python 3",
   "language": "python",
   "name": "python3"
  },
  "language_info": {
   "codemirror_mode": {
    "name": "ipython",
    "version": 3
   },
   "file_extension": ".py",
   "mimetype": "text/x-python",
   "name": "python",
   "nbconvert_exporter": "python",
   "pygments_lexer": "ipython3",
   "version": "3.11.10"
  }
 },
 "nbformat": 4,
 "nbformat_minor": 2
}
